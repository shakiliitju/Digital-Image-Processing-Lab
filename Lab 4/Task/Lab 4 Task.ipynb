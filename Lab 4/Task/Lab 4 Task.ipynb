{
 "cells": [
  {
   "cell_type": "markdown",
   "id": "a8ffa6f1",
   "metadata": {},
   "source": [
    "### 1.\tUsing the for loop and glob library read all the image files and rename all of them according to loop."
   ]
  },
  {
   "cell_type": "code",
   "execution_count": 7,
   "id": "2f07e3e9",
   "metadata": {},
   "outputs": [
    {
     "name": "stdout",
     "output_type": "stream",
     "text": [
      "before rename\n",
      "['new0.jpg', 'new4.jpg', 'new5.jpg', 'new6.jpg', 'new7.jpg', 'new8.jpg']\n",
      "after rename\n",
      "['new0.jpg', 'new1.jpg', 'new2.jpg', 'new3.jpg', 'new4.jpg', 'new5.jpg']\n"
     ]
    }
   ],
   "source": [
    "import os\n",
    "import glob\n",
    "co=0\n",
    "path='*.*'\n",
    "os.chdir(r'F:\\Github\\Digital-Image-Processing-Lab\\Lab 4\\Code\\Images')\n",
    "print(\"before rename\")\n",
    "print(os.listdir())\n",
    "\n",
    "for i in glob.glob(path):\n",
    "    va='new'+str(co)+'.jpg'\n",
    "    co+=1\n",
    "    os.rename(i,va)\n",
    "    \n",
    "print(\"after rename\")\n",
    "print(os.listdir())\n"
   ]
  },
  {
   "cell_type": "code",
   "execution_count": null,
   "id": "ba26814d",
   "metadata": {},
   "outputs": [],
   "source": []
  }
 ],
 "metadata": {
  "kernelspec": {
   "display_name": "Python 3 (ipykernel)",
   "language": "python",
   "name": "python3"
  },
  "language_info": {
   "codemirror_mode": {
    "name": "ipython",
    "version": 3
   },
   "file_extension": ".py",
   "mimetype": "text/x-python",
   "name": "python",
   "nbconvert_exporter": "python",
   "pygments_lexer": "ipython3",
   "version": "3.10.9"
  }
 },
 "nbformat": 4,
 "nbformat_minor": 5
}
