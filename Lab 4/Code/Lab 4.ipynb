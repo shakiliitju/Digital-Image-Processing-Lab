{
 "cells": [
  {
   "cell_type": "markdown",
   "metadata": {},
   "source": [
    "### Lab Title:  Basic Image Processing Using Glob and Scikit-Image Library "
   ]
  },
  {
   "cell_type": "markdown",
   "metadata": {},
   "source": [
    "### Introduction to Glob"
   ]
  },
  {
   "cell_type": "code",
   "execution_count": 8,
   "metadata": {},
   "outputs": [
    {
     "name": "stdout",
     "output_type": "stream",
     "text": [
      "['flower.avif']\n"
     ]
    }
   ],
   "source": [
    "import glob\n",
    "files = glob.glob(\"*flower.avif\")\n",
    "print(files)"
   ]
  },
  {
   "cell_type": "markdown",
   "metadata": {},
   "source": [
    "Returns a list of file names using glob():"
   ]
  },
  {
   "cell_type": "code",
   "execution_count": 9,
   "metadata": {},
   "outputs": [
    {
     "name": "stdout",
     "output_type": "stream",
     "text": [
      "['balloons_noisy.png', 'Color_image1.jpg', 'Color_image21.jpg', 'download.jpeg', 'flower.avif', 'gray.jpeg', 'image.jpg', 'Lab 4 Task.ipynb', 'Lab 4.ipynb', 'parrot-webp.webp', 'salt and paper.jpg']\n"
     ]
    }
   ],
   "source": [
    "#import the library opencv\n",
    "import cv2\n",
    "import glob\n",
    "\n",
    "file_list = glob.glob('*.*') #Returns a list of file names\n",
    "print(file_list)  #Prints the list containing file names\n"
   ]
  },
  {
   "cell_type": "markdown",
   "metadata": {},
   "source": [
    "Loading each file at a time:"
   ]
  },
  {
   "cell_type": "code",
   "execution_count": 30,
   "metadata": {},
   "outputs": [
    {
     "name": "stdout",
     "output_type": "stream",
     "text": [
      "flower.avif\n"
     ]
    },
    {
     "ename": "IndexError",
     "evalue": "list index out of range",
     "output_type": "error",
     "traceback": [
      "\u001b[1;31m---------------------------------------------------------------------------\u001b[0m",
      "\u001b[1;31mIndexError\u001b[0m                                Traceback (most recent call last)",
      "Cell \u001b[1;32mIn[30], line 10\u001b[0m\n\u001b[0;32m      7\u001b[0m     my_list\u001b[38;5;241m.\u001b[39mappend(a)\n\u001b[0;32m      9\u001b[0m \u001b[38;5;28;01mfrom\u001b[39;00m \u001b[38;5;21;01mmatplotlib\u001b[39;00m \u001b[38;5;28;01mimport\u001b[39;00m pyplot \u001b[38;5;28;01mas\u001b[39;00m plt\n\u001b[1;32m---> 10\u001b[0m plt\u001b[38;5;241m.\u001b[39mimshow(\u001b[43mmy_list\u001b[49m\u001b[43m[\u001b[49m\u001b[38;5;241;43m2\u001b[39;49m\u001b[43m]\u001b[49m)\n",
      "\u001b[1;31mIndexError\u001b[0m: list index out of range"
     ]
    }
   ],
   "source": [
    "import cv2\n",
    "my_list=[]\n",
    "path = \"*.avif*\"\n",
    "for file in glob.glob(path):\n",
    "    print(file)\n",
    "    a = cv2.imread(file)\n",
    "    my_list.append(a)\n",
    "    \n",
    "from matplotlib import pyplot as plt\n",
    "plt.imshow(my_list[2])"
   ]
  },
  {
   "cell_type": "markdown",
   "metadata": {},
   "source": [
    "Load images and perform some action:"
   ]
  },
  {
   "cell_type": "code",
   "execution_count": 17,
   "metadata": {},
   "outputs": [
    {
     "data": {
      "text/plain": [
       "True"
      ]
     },
     "execution_count": 17,
     "metadata": {},
     "output_type": "execute_result"
    }
   ],
   "source": [
    "import cv2\n",
    "a=cv2.imread(\"flower.avif\")\n",
    "img_number=1\n",
    "cv2.imwrite(\"Color_image\"+str(img_number)+\".jpg\",a)"
   ]
  },
  {
   "cell_type": "code",
   "execution_count": 18,
   "metadata": {},
   "outputs": [
    {
     "name": "stdout",
     "output_type": "stream",
     "text": [
      "Color_image1.jpg\n",
      "Color_image21.jpg\n",
      "image.jpg\n",
      "salt and paper.jpg\n"
     ]
    }
   ],
   "source": [
    "import glob\n",
    "import os\n",
    "\n",
    "path = ''\n",
    "file_type = '*.jpg*'\n",
    "\n",
    "files = glob.glob(os.path.join(path, file_type))\n",
    "\n",
    "for file_name in files:\n",
    "    print(file_name)\n"
   ]
  },
  {
   "cell_type": "code",
   "execution_count": 19,
   "metadata": {},
   "outputs": [],
   "source": [
    "import cv2\n",
    "\n",
    "a=cv2.imread(\"flower.avif\")\n",
    "img_number=1\n",
    "\n",
    "cv2.imshow('Oreginal Image', a)\n",
    "cv2.waitKey(3000)\n",
    "cv2.destroyAllWindows()\n",
    "\n",
    "# Convert BGR to RGB\n",
    "rgb_image = cv2.cvtColor(a, cv2.COLOR_BGR2RGB)\n",
    "\n",
    "# Name Change\n",
    "cv2.imwrite(\"Color_image2\"+str(img_number)+\".jpg\",a)\n",
    "img_number +=1\n",
    "\n",
    "cv2.imshow('Color Image', rgb_image)\n",
    "cv2.waitKey(3000)\n",
    "cv2.destroyAllWindows()\n"
   ]
  },
  {
   "cell_type": "markdown",
   "metadata": {},
   "source": [
    "Using os.listdir to read multiple files:\n",
    "os.listdir():\n"
   ]
  },
  {
   "cell_type": "code",
   "execution_count": 20,
   "metadata": {},
   "outputs": [
    {
     "ename": "FileNotFoundError",
     "evalue": "[WinError 3] The system cannot find the path specified: ''",
     "output_type": "error",
     "traceback": [
      "\u001b[1;31m---------------------------------------------------------------------------\u001b[0m",
      "\u001b[1;31mFileNotFoundError\u001b[0m                         Traceback (most recent call last)",
      "Cell \u001b[1;32mIn[20], line 3\u001b[0m\n\u001b[0;32m      1\u001b[0m \u001b[38;5;28;01mimport\u001b[39;00m \u001b[38;5;21;01mos\u001b[39;00m\n\u001b[0;32m      2\u001b[0m path \u001b[38;5;241m=\u001b[39m \u001b[38;5;124mr\u001b[39m\u001b[38;5;124m'\u001b[39m\u001b[38;5;124m'\u001b[39m\n\u001b[1;32m----> 3\u001b[0m \u001b[38;5;28mprint\u001b[39m(\u001b[43mos\u001b[49m\u001b[38;5;241;43m.\u001b[39;49m\u001b[43mlistdir\u001b[49m\u001b[43m(\u001b[49m\u001b[43mpath\u001b[49m\u001b[43m)\u001b[49m)\n\u001b[0;32m      5\u001b[0m \u001b[38;5;28;01mfor\u001b[39;00m l \u001b[38;5;129;01min\u001b[39;00m os\u001b[38;5;241m.\u001b[39mlistdir(path):\n\u001b[0;32m      6\u001b[0m     \u001b[38;5;28mprint\u001b[39m(l)\n",
      "\u001b[1;31mFileNotFoundError\u001b[0m: [WinError 3] The system cannot find the path specified: ''"
     ]
    }
   ],
   "source": [
    "import os\n",
    "path = r''\n",
    "print(os.listdir(path))\n",
    "\n",
    "for l in os.listdir(path):\n",
    "    print(l)"
   ]
  },
  {
   "cell_type": "markdown",
   "metadata": {},
   "source": [
    "os.walk(): os.path.join(): "
   ]
  },
  {
   "cell_type": "code",
   "execution_count": 21,
   "metadata": {},
   "outputs": [
    {
     "name": "stdout",
     "output_type": "stream",
     "text": [
      "<generator object _walk at 0x000001DB49555FC0>\n",
      ".\n",
      "['.']\n",
      "flower.avif\n",
      " .\n",
      "--- balloons_noisy.png\n",
      "--- Color_image1.jpg\n",
      "--- Color_image21.jpg\n",
      "--- download.jpeg\n",
      "--- flower.avif\n",
      "--- gray.jpeg\n",
      "--- image.jpg\n",
      "--- Lab 4 Task.ipynb\n",
      "--- Lab 4.ipynb\n",
      "--- parrot-webp.webp\n",
      "--- salt and paper.jpg\n",
      ".\\.ipynb_checkpoints\n",
      "['.', '.ipynb_checkpoints']\n",
      "salt and paper.jpg\n",
      "--- .ipynb_checkpoints\n",
      "------ Lab 4 Task-checkpoint.ipynb\n",
      "------ Lab 4-checkpoint.ipynb\n",
      ".\\Lab 9\n",
      "['.', 'Lab 9']\n",
      "Lab 4-checkpoint.ipynb\n",
      "--- Lab 9\n",
      "------ Lab 9.ipynb\n",
      "------ lab9.ipynb\n",
      "------ photo1.tif\n",
      "------ sythetic.jpg\n",
      ".\\Lab 9\\.ipynb_checkpoints\n",
      "['.', 'Lab 9', '.ipynb_checkpoints']\n",
      "sythetic.jpg\n",
      "------ .ipynb_checkpoints\n",
      "--------- Lab 9-checkpoint.ipynb\n",
      "--------- lab9-checkpoint.ipynb\n"
     ]
    }
   ],
   "source": [
    "import os\n",
    "print(os.walk(\".\"))\n",
    "\n",
    "for root, dirs, files in os.walk(\".\"):\n",
    "    print(root)\n",
    "    path = root.split(os.sep)\n",
    "    print(path)\n",
    "    print(file)\n",
    "    print((len(path)-1)* '---', os.path.basename(root))\n",
    "\n",
    "    for file in files:\n",
    "        print(len(path) * '---', file)\n"
   ]
  },
  {
   "cell_type": "markdown",
   "metadata": {},
   "source": [
    "Another way to look at all dirs. and files:"
   ]
  },
  {
   "cell_type": "code",
   "execution_count": 22,
   "metadata": {},
   "outputs": [
    {
     "name": "stdout",
     "output_type": "stream",
     "text": [
      ".\\.ipynb_checkpoints\n",
      ".\\Lab 9\n",
      "*.\\balloons_noisy.png\n",
      "*.\\Color_image1.jpg\n",
      "*.\\Color_image21.jpg\n",
      "*.\\download.jpeg\n",
      "*.\\flower.avif\n",
      "*.\\gray.jpeg\n",
      "*.\\image.jpg\n",
      "*.\\Lab 4 Task.ipynb\n",
      "*.\\Lab 4.ipynb\n",
      "*.\\parrot-webp.webp\n",
      "*.\\salt and paper.jpg\n",
      "*.\\.ipynb_checkpoints\\Lab 4 Task-checkpoint.ipynb\n",
      "*.\\.ipynb_checkpoints\\Lab 4-checkpoint.ipynb\n",
      ".\\Lab 9\\.ipynb_checkpoints\n",
      "*.\\Lab 9\\Lab 9.ipynb\n",
      "*.\\Lab 9\\lab9.ipynb\n",
      "*.\\Lab 9\\photo1.tif\n",
      "*.\\Lab 9\\sythetic.jpg\n",
      "*.\\Lab 9\\.ipynb_checkpoints\\Lab 9-checkpoint.ipynb\n",
      "*.\\Lab 9\\.ipynb_checkpoints\\lab9-checkpoint.ipynb\n"
     ]
    }
   ],
   "source": [
    "import os\n",
    "\n",
    "for root, dirs, files in os.walk(\".\"):\n",
    "\n",
    "    for name in dirs:\n",
    "        print(os.path.join(root,name))\n",
    "\n",
    "    for name in files:\n",
    "        print(\"*\"+ os.path.join(root,name))"
   ]
  },
  {
   "cell_type": "code",
   "execution_count": null,
   "metadata": {},
   "outputs": [],
   "source": []
  }
 ],
 "metadata": {
  "kernelspec": {
   "display_name": "Python 3 (ipykernel)",
   "language": "python",
   "name": "python3"
  },
  "language_info": {
   "codemirror_mode": {
    "name": "ipython",
    "version": 3
   },
   "file_extension": ".py",
   "mimetype": "text/x-python",
   "name": "python",
   "nbconvert_exporter": "python",
   "pygments_lexer": "ipython3",
   "version": "3.10.9"
  },
  "vscode": {
   "interpreter": {
    "hash": "1d5c1156327dacead463cc502c55ebae8ce9c8c01979cf154173ff808e75bf55"
   }
  }
 },
 "nbformat": 4,
 "nbformat_minor": 2
}
