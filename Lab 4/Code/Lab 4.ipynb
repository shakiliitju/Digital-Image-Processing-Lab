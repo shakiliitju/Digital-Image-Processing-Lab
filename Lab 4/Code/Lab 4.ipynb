{
 "cells": [
  {
   "attachments": {},
   "cell_type": "markdown",
   "metadata": {},
   "source": [
    "### Introduction to Glob"
   ]
  },
  {
   "cell_type": "code",
   "execution_count": 3,
   "metadata": {},
   "outputs": [
    {
     "name": "stdout",
     "output_type": "stream",
     "text": [
      "[]\n"
     ]
    }
   ],
   "source": [
    "import glob\n",
    "files = glob.glob(\"Code/*flower.avif\")\n",
    "print(files)"
   ]
  },
  {
   "cell_type": "code",
   "execution_count": 16,
   "metadata": {},
   "outputs": [
    {
     "name": "stdout",
     "output_type": "stream",
     "text": [
      "flower.avif\n"
     ]
    }
   ],
   "source": [
    "import cv2\n",
    "my_list=[]\n",
    "path = \"*.avif*\"\n",
    "for file in glob.glob(path):\n",
    "    print(file)\n",
    "    a = cv2.imread(file)\n",
    "    my_list.append(a)"
   ]
  },
  {
   "cell_type": "code",
   "execution_count": 17,
   "metadata": {},
   "outputs": [
    {
     "ename": "IndexError",
     "evalue": "list index out of range",
     "output_type": "error",
     "traceback": [
      "\u001b[1;31m---------------------------------------------------------------------------\u001b[0m",
      "\u001b[1;31mIndexError\u001b[0m                                Traceback (most recent call last)",
      "Cell \u001b[1;32mIn[17], line 2\u001b[0m\n\u001b[0;32m      1\u001b[0m \u001b[39mfrom\u001b[39;00m \u001b[39mmatplotlib\u001b[39;00m \u001b[39mimport\u001b[39;00m pyplot \u001b[39mas\u001b[39;00m plt\n\u001b[1;32m----> 2\u001b[0m plt\u001b[39m.\u001b[39mimshow(my_list[\u001b[39m2\u001b[39;49m])\n",
      "\u001b[1;31mIndexError\u001b[0m: list index out of range"
     ]
    }
   ],
   "source": [
    "from matplotlib import pyplot as plt\n",
    "plt.imshow(my_list[2])"
   ]
  },
  {
   "cell_type": "code",
   "execution_count": 22,
   "metadata": {},
   "outputs": [
    {
     "data": {
      "text/plain": [
       "True"
      ]
     },
     "execution_count": 22,
     "metadata": {},
     "output_type": "execute_result"
    }
   ],
   "source": [
    "import cv2\n",
    "a=cv2.imread(\"flower.avif\")\n",
    "img_number=1\n",
    "cv2.imwrite(\"Color_image\"+str(img_number)+\".jpg\",a)"
   ]
  },
  {
   "cell_type": "code",
   "execution_count": 23,
   "metadata": {},
   "outputs": [
    {
     "name": "stdout",
     "output_type": "stream",
     "text": [
      "H:\\Github\\Digital-Image-Processing-Lab\\Lab 4\\Code\\Color_image1.jpg\n",
      "H:\\Github\\Digital-Image-Processing-Lab\\Lab 4\\Code\\Color_imahe1.jpg\n",
      "H:\\Github\\Digital-Image-Processing-Lab\\Lab 4\\Code\\image.jpg\n"
     ]
    }
   ],
   "source": [
    "import glob\n",
    "import os\n",
    "\n",
    "path = 'H:\\Github\\Digital-Image-Processing-Lab\\Lab 4\\Code'\n",
    "file_type = '*.jpg*'\n",
    "\n",
    "files = glob.glob(os.path.join(path, file_type))\n",
    "\n",
    "for file_name in files:\n",
    "    print(file_name)\n"
   ]
  },
  {
   "cell_type": "code",
   "execution_count": 6,
   "metadata": {},
   "outputs": [],
   "source": [
    "import cv2\n",
    "\n",
    "a=cv2.imread(\"flower.avif\")\n",
    "img_number=1\n",
    "\n",
    "cv2.imshow('Oreginal Image', a)\n",
    "cv2.waitKey(3000)\n",
    "cv2.destroyAllWindows()\n",
    "\n",
    "# Convert BGR to RGB\n",
    "rgb_image = cv2.cvtColor(a, cv2.COLOR_BGR2RGB)\n",
    "\n",
    "# Name Change\n",
    "cv2.imwrite(\"Color_image2\"+str(img_number)+\".jpg\",a)\n",
    "img_number +=1\n",
    "\n",
    "cv2.imshow('Color Image', rgb_image)\n",
    "cv2.waitKey(3000)\n",
    "cv2.destroyAllWindows()\n"
   ]
  },
  {
   "cell_type": "code",
   "execution_count": 10,
   "metadata": {},
   "outputs": [
    {
     "name": "stdout",
     "output_type": "stream",
     "text": [
      "['Color_image1.jpg', 'Color_image21.jpg', 'download.jpeg', 'flower.avif', 'image.jpg', 'Lab 4.ipynb', 'parrot-webp.webp']\n",
      "Color_image1.jpg\n",
      "Color_image21.jpg\n",
      "download.jpeg\n",
      "flower.avif\n",
      "image.jpg\n",
      "Lab 4.ipynb\n",
      "parrot-webp.webp\n"
     ]
    }
   ],
   "source": [
    "import os\n",
    "path = r'H:\\Github\\Digital-Image-Processing-Lab\\Lab 4\\Code'\n",
    "print(os.listdir(path))\n",
    "\n",
    "for l in os.listdir(path):\n",
    "    print(l)"
   ]
  },
  {
   "cell_type": "code",
   "execution_count": 16,
   "metadata": {},
   "outputs": [
    {
     "name": "stdout",
     "output_type": "stream",
     "text": [
      "<generator object _walk at 0x000001EBB0867190>\n",
      ".\n",
      "['.']\n",
      "parrot-webp.webp\n",
      " .\n",
      "--- Color_image1.jpg\n",
      "--- Color_image21.jpg\n",
      "--- download.jpeg\n",
      "--- flower.avif\n",
      "--- image.jpg\n",
      "--- Lab 4.ipynb\n",
      "--- parrot-webp.webp\n"
     ]
    }
   ],
   "source": [
    "import os\n",
    "print(os.walk(\".\"))\n",
    "\n",
    "for root, dirs, files in os.walk(\".\"):\n",
    "    print(root)\n",
    "    path = root.split(os.sep)\n",
    "    print(path)\n",
    "    print(file)\n",
    "    print((len(path)-1)* '---', os.path.basename(root))\n",
    "\n",
    "    for file in files:\n",
    "        print(len(path) * '---', file)\n"
   ]
  },
  {
   "cell_type": "code",
   "execution_count": 17,
   "metadata": {},
   "outputs": [
    {
     "name": "stdout",
     "output_type": "stream",
     "text": [
      "*.\\Color_image1.jpg\n",
      "*.\\Color_image21.jpg\n",
      "*.\\download.jpeg\n",
      "*.\\flower.avif\n",
      "*.\\image.jpg\n",
      "*.\\Lab 4.ipynb\n",
      "*.\\parrot-webp.webp\n"
     ]
    }
   ],
   "source": [
    "import os\n",
    "\n",
    "for root, dirs, files in os.walk(\".\"):\n",
    "\n",
    "    for name in dirs:\n",
    "        print(os.path.join(root,name))\n",
    "\n",
    "    for name in files:\n",
    "        print(\"*\"+ os.path.join(root,name))"
   ]
  },
  {
   "cell_type": "code",
   "execution_count": null,
   "metadata": {},
   "outputs": [],
   "source": [
    "from matplotlib.pyplot as plt\n",
    "\n",
    "from skimage import io, color\n",
    "from skimage.transform import rescale, resize, "
   ]
  },
  {
   "cell_type": "code",
   "execution_count": null,
   "metadata": {},
   "outputs": [],
   "source": []
  },
  {
   "cell_type": "code",
   "execution_count": null,
   "metadata": {},
   "outputs": [],
   "source": []
  }
 ],
 "metadata": {
  "kernelspec": {
   "display_name": "Python 3",
   "language": "python",
   "name": "python3"
  },
  "language_info": {
   "codemirror_mode": {
    "name": "ipython",
    "version": 3
   },
   "file_extension": ".py",
   "mimetype": "text/x-python",
   "name": "python",
   "nbconvert_exporter": "python",
   "pygments_lexer": "ipython3",
   "version": "3.9.0"
  },
  "orig_nbformat": 4,
  "vscode": {
   "interpreter": {
    "hash": "1d5c1156327dacead463cc502c55ebae8ce9c8c01979cf154173ff808e75bf55"
   }
  }
 },
 "nbformat": 4,
 "nbformat_minor": 2
}
