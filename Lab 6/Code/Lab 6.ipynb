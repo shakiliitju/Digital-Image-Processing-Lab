{
 "cells": [
  {
   "cell_type": "markdown",
   "id": "559c18fc",
   "metadata": {},
   "source": [
    "### Lab Title:  Image Denoising Using Median, Bilateral, NLM and Total Variance."
   ]
  },
  {
   "cell_type": "markdown",
   "id": "503cdf75",
   "metadata": {},
   "source": [
    "Denoising using median Filtering:"
   ]
  },
  {
   "cell_type": "code",
   "execution_count": 1,
   "id": "a5e38060",
   "metadata": {},
   "outputs": [],
   "source": [
    "import cv2\n",
    "from skimage.filters import median\n",
    "\n",
    "img_gaussian_noise = cv2.imread(\"balloons_noisy.png\",0)\n",
    "\n",
    "img_salt_pepper_noise = cv2.imread(\"salt and paper.jpg\",0)\n",
    "\n",
    "img = img_salt_pepper_noise\n",
    "\n",
    "median_using_cv2 = cv2.medianBlur(img, 3)\n",
    "\n",
    "from skimage.morphology import disk\n",
    "\n",
    "median_using_skimage = median(img, disk(3), mode='constant', cval=0.0)\n",
    "\n",
    "cv2.imshow(\"Original\", img)\n",
    "cv2.imshow(\"Using Cv2\", median_using_cv2)\n",
    "cv2.imshow(\"Using Skimage\", median_using_skimage)\n",
    "\n",
    "cv2.waitKey(0)\n",
    "cv2.destroyAllWindows()"
   ]
  },
  {
   "cell_type": "markdown",
   "id": "aa6b78ec",
   "metadata": {},
   "source": [
    "Denoising using Bilateral Filtering"
   ]
  },
  {
   "cell_type": "code",
   "execution_count": 2,
   "id": "cb1f89c6",
   "metadata": {},
   "outputs": [],
   "source": [
    "import cv2\n",
    "img_gaussian_noise = cv2.imread(\"balloons_noisy.png\",0)\n",
    "\n",
    "img_salt_pepper_noise = cv2.imread(\"salt and paper.jpg\",0)\n",
    "img = img_gaussian_noise\n",
    "\n",
    "bilateral_using_cv2 = cv2.bilateralFilter(img,5,20,100,borderType=cv2.BORDER_CONSTANT)\n",
    "\n",
    "from skimage.restoration import denoise_bilateral\n",
    "\n",
    "bilateral_using_skimage = denoise_bilateral(img, sigma_color=0.05, sigma_spatial=1.5, channel_axis=None)\n",
    "\n",
    "cv2.imshow(\"Original\", img)\n",
    "cv2.imshow(\"Cv2 bilateral\", bilateral_using_cv2)\n",
    "cv2.imshow(\"Using Skimage bilateral\", bilateral_using_skimage)\n",
    "\n",
    "cv2.waitKey(0)\n",
    "cv2.destroyAllWindows()\n"
   ]
  },
  {
   "cell_type": "markdown",
   "id": "aca01fdc",
   "metadata": {},
   "source": [
    "Denoising using NLM filtering:"
   ]
  },
  {
   "cell_type": "code",
   "execution_count": 7,
   "id": "e8b6bb93",
   "metadata": {},
   "outputs": [],
   "source": [
    "import cv2\n",
    "import numpy as np\n",
    "from  skimage import io,img_as_float\n",
    "from skimage.restoration import denoise_nl_means,estimate_sigma\n",
    "gi=img_as_float(io.imread('balloons_noisy.png',as_gray=True))\n",
    "si=img_as_float(io.imread('salt and paper.jpg',as_gray=True))\n",
    "\n",
    "img =gi\n",
    "sigma_est=np.mean(estimate_sigma(img,channel_axis=True))\n",
    "dni=denoise_nl_means(img,h=1.15*sigma_est,fast_mode=True,patch_size=5,patch_distance=3,channel_axis=None)\n",
    "\n",
    "cv2.imshow(\"original\",img)\n",
    "cv2.imshow(\"m1\",dni)\n",
    "\n",
    "img =si\n",
    "sigma_est=np.mean(estimate_sigma(img,channel_axis=True))\n",
    "dni=denoise_nl_means(img,h=1.15*sigma_est,fast_mode=True,patch_size=5,patch_distance=3,channel_axis=None)\n",
    "\n",
    "cv2.imshow(\"original1\",img)\n",
    "cv2.imshow(\"m11\",dni)\n",
    "\n",
    "#cv2.imshow(\"m2\",bui)\n",
    "cv2.waitKey(0)\n",
    "cv2.destroyAllWindows()"
   ]
  },
  {
   "cell_type": "markdown",
   "id": "79e7c5b0",
   "metadata": {},
   "source": [
    "Denoising Works using Total Variance filtering"
   ]
  },
  {
   "cell_type": "code",
   "execution_count": 8,
   "id": "8ce151d4",
   "metadata": {},
   "outputs": [
    {
     "data": {
      "image/png": "[encoded data removed]",
      "text/plain": [
       "<Figure size 640x480 with 1 Axes>"
      ]
     },
     "metadata": {},
     "output_type": "display_data"
    }
   ],
   "source": [
    "import cv2\n",
    "from skimage import io, img_as_float\n",
    "from skimage.restoration import denoise_tv_chambolle\n",
    "from matplotlib import pyplot as plt\n",
    "\n",
    "img  = img_as_float(io.imread(\"balloons_noisy.png\", as_gray=True))\n",
    "plt.hist(img.flat, bins=100, range=(0,1))\n",
    "\n",
    "denoise_img = denoise_tv_chambolle(img, weight=0.1, eps=0.0002, channel_axis=False)\n",
    "\n",
    "plt.hist(denoise_img.flat, bins=100, range=(0,1))\n",
    "\n",
    "cv2.imshow(\"Original\", img)\n",
    "cv2.imshow(\"TV Filtered\", denoise_img)\n",
    "cv2.waitKey(0)\n",
    "cv2.destroyAllWindows()"
   ]
  },
  {
   "cell_type": "markdown",
   "id": "576773db",
   "metadata": {},
   "source": [
    "Denoising using Block matching and 3D filtering (BM3D):"
   ]
  },
  {
   "cell_type": "code",
   "execution_count": 9,
   "id": "949dbb9f",
   "metadata": {},
   "outputs": [],
   "source": [
    "from skimage import io, img_as_float\n",
    "import bm3d\n",
    "import cv2\n",
    "\n",
    "noisy_img = img_as_float(io.imread(\"balloons_noisy.png\", as_gray=True))\n",
    "\n",
    "BM3D_denoise_image = bm3d.bm3d(noisy_img, sigma_psd=0.2, stage_arg=bm3d.BM3DStages.HARD_THRESHOLDING)\n",
    "\n",
    "cv2.imshow(\"Original\", noisy_img)\n",
    "cv2.imshow(\"BM3D Filtered\", BM3D_denoise_image)\n",
    "cv2.waitKey(0)\n",
    "cv2.destroyAllWindows()"
   ]
  },
  {
   "cell_type": "code",
   "execution_count": null,
   "id": "58584689",
   "metadata": {},
   "outputs": [],
   "source": []
  }
 ],
 "metadata": {
  "kernelspec": {
   "display_name": "Python 3 (ipykernel)",
   "language": "python",
   "name": "python3"
  },
  "language_info": {
   "codemirror_mode": {
    "name": "ipython",
    "version": 3
   },
   "file_extension": ".py",
   "mimetype": "text/x-python",
   "name": "python",
   "nbconvert_exporter": "python",
   "pygments_lexer": "ipython3",
   "version": "3.10.9"
  }
 },
 "nbformat": 4,
 "nbformat_minor": 5
}
