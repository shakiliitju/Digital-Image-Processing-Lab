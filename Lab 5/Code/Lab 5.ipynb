{
 "cells": [
  {
   "attachments": {},
   "cell_type": "markdown",
   "metadata": {},
   "source": [
    "### Lab Title:  Basic Image Processing Using Scikit-Image Library "
   ]
  },
  {
   "cell_type": "code",
   "execution_count": 1,
   "metadata": {},
   "outputs": [],
   "source": [
    "import cv2\n",
    "from skimage.filters import median\n",
    "\n",
    "img_gaussian_noise = cv2.imread(\"balloons_noisy.png\",0)\n",
    "\n",
    "img_salt_pepper_noise = cv2.imread(\"salt and paper.jpg\",0)\n",
    "\n",
    "img = img_salt_pepper_noise\n",
    "\n",
    "median_using_cv2 = cv2.medianBlur(img, 3)\n",
    "\n",
    "from skimage.morphology import disk\n",
    "\n",
    "median_using_skimage = median(img, disk(3), mode='constant', cval=0.0)\n",
    "\n",
    "cv2.imshow(\"Original\", img)\n",
    "cv2.imshow(\"Using Cv2\", median_using_cv2)\n",
    "cv2.imshow(\"Using Skimage\", median_using_skimage)\n",
    "\n",
    "cv2.waitKey(0)\n",
    "cv2.destroyAllWindows()"
   ]
  },
  {
   "cell_type": "code",
   "execution_count": 1,
   "metadata": {},
   "outputs": [],
   "source": [
    "import cv2\n",
    "img_gaussian_noise = cv2.imread(\"balloons_noisy.png\",0)\n",
    "\n",
    "img_salt_pepper_noise = cv2.imread(\"salt and paper.jpg\",0)\n",
    "img = img_gaussian_noise\n",
    "\n",
    "bilateral_using_cv2 = cv2.bilateralFilter(img,5,20,100,borderType=cv2.BORDER_CONSTANT)\n",
    "\n",
    "from skimage.restoration import denoise_bilateral\n",
    "\n",
    "bilateral_using_skimage = denoise_bilateral(img, sigma_color=0.05, sigma_spatial=1.5, channel_axis=None)\n",
    "\n",
    "cv2.imshow(\"Original\", img)\n",
    "cv2.imshow(\"Cv2 bilateral\", bilateral_using_cv2)\n",
    "cv2.imshow(\"Using Skimage bilateral\", bilateral_using_skimage)\n",
    "\n",
    "cv2.waitKey(0)\n",
    "cv2.destroyAllWindows()"
   ]
  },
  {
   "cell_type": "code",
   "execution_count": 2,
   "metadata": {},
   "outputs": [
    {
     "ename": "ImportError",
     "evalue": "PyWavelets is not installed. Please ensure it is installed in order to use this function.",
     "output_type": "error",
     "traceback": [
      "\u001b[1;31m---------------------------------------------------------------------------\u001b[0m",
      "\u001b[1;31mModuleNotFoundError\u001b[0m                       Traceback (most recent call last)",
      "File \u001b[1;32mc:\\Users\\USER\\AppData\\Local\\Programs\\Python\\Python39\\lib\\site-packages\\skimage\\restoration\\_denoise.py:1021\u001b[0m, in \u001b[0;36mestimate_sigma\u001b[1;34m(image, average_sigmas, channel_axis)\u001b[0m\n\u001b[0;32m   1020\u001b[0m \u001b[39mtry\u001b[39;00m:\n\u001b[1;32m-> 1021\u001b[0m     \u001b[39mimport\u001b[39;00m \u001b[39mpywt\u001b[39;00m\n\u001b[0;32m   1022\u001b[0m \u001b[39mexcept\u001b[39;00m \u001b[39mImportError\u001b[39;00m:\n",
      "\u001b[1;31mModuleNotFoundError\u001b[0m: No module named 'pywt'",
      "\nDuring handling of the above exception, another exception occurred:\n",
      "\u001b[1;31mImportError\u001b[0m                               Traceback (most recent call last)",
      "Cell \u001b[1;32mIn[2], line 9\u001b[0m\n\u001b[0;32m      6\u001b[0m si\u001b[39m=\u001b[39mimg_as_float(io\u001b[39m.\u001b[39mimread(\u001b[39m'\u001b[39m\u001b[39msalt and paper.jpg\u001b[39m\u001b[39m'\u001b[39m,as_gray\u001b[39m=\u001b[39m\u001b[39mTrue\u001b[39;00m))\n\u001b[0;32m      8\u001b[0m img \u001b[39m=\u001b[39mgi\n\u001b[1;32m----> 9\u001b[0m sigma_est\u001b[39m=\u001b[39mnp\u001b[39m.\u001b[39mmean(estimate_sigma(img,channel_axis\u001b[39m=\u001b[39;49m\u001b[39mTrue\u001b[39;49;00m))\n\u001b[0;32m     10\u001b[0m dni\u001b[39m=\u001b[39mdenoise_nl_means(img,h\u001b[39m=\u001b[39m\u001b[39m1.15\u001b[39m\u001b[39m*\u001b[39msigma_est,fast_mode\u001b[39m=\u001b[39m\u001b[39mTrue\u001b[39;00m,patch_size\u001b[39m=\u001b[39m\u001b[39m5\u001b[39m,patch_distance\u001b[39m=\u001b[39m\u001b[39m3\u001b[39m,channel_axis\u001b[39m=\u001b[39m\u001b[39mNone\u001b[39;00m)\n\u001b[0;32m     13\u001b[0m cv2\u001b[39m.\u001b[39mimshow(\u001b[39m\"\u001b[39m\u001b[39moriginal\u001b[39m\u001b[39m\"\u001b[39m,img)\n",
      "File \u001b[1;32mc:\\Users\\USER\\AppData\\Local\\Programs\\Python\\Python39\\lib\\site-packages\\skimage\\restoration\\_denoise.py:1023\u001b[0m, in \u001b[0;36mestimate_sigma\u001b[1;34m(image, average_sigmas, channel_axis)\u001b[0m\n\u001b[0;32m   1021\u001b[0m     \u001b[39mimport\u001b[39;00m \u001b[39mpywt\u001b[39;00m\n\u001b[0;32m   1022\u001b[0m \u001b[39mexcept\u001b[39;00m \u001b[39mImportError\u001b[39;00m:\n\u001b[1;32m-> 1023\u001b[0m     \u001b[39mraise\u001b[39;00m \u001b[39mImportError\u001b[39;00m(\n\u001b[0;32m   1024\u001b[0m         \u001b[39m'\u001b[39m\u001b[39mPyWavelets is not installed. Please ensure it is installed in \u001b[39m\u001b[39m'\u001b[39m\n\u001b[0;32m   1025\u001b[0m         \u001b[39m'\u001b[39m\u001b[39morder to use this function.\u001b[39m\u001b[39m'\u001b[39m\n\u001b[0;32m   1026\u001b[0m     )\n\u001b[0;32m   1028\u001b[0m \u001b[39mif\u001b[39;00m channel_axis \u001b[39mis\u001b[39;00m \u001b[39mnot\u001b[39;00m \u001b[39mNone\u001b[39;00m:\n\u001b[0;32m   1029\u001b[0m     channel_axis \u001b[39m=\u001b[39m channel_axis \u001b[39m%\u001b[39m image\u001b[39m.\u001b[39mndim\n",
      "\u001b[1;31mImportError\u001b[0m: PyWavelets is not installed. Please ensure it is installed in order to use this function."
     ]
    }
   ],
   "source": [
    "import cv2\n",
    "import numpy as np\n",
    "from  skimage import io,img_as_float\n",
    "from skimage.restoration import denoise_nl_means,estimate_sigma\n",
    "gi=img_as_float(io.imread('balloons_noisy.png',as_gray=True))\n",
    "si=img_as_float(io.imread('salt and paper.jpg',as_gray=True))\n",
    "\n",
    "img =gi\n",
    "sigma_est=np.mean(estimate_sigma(img,channel_axis=True))\n",
    "dni=denoise_nl_means(img,h=1.15*sigma_est,fast_mode=True,patch_size=5,patch_distance=3,channel_axis=None)\n",
    "\n",
    "\n",
    "cv2.imshow(\"original\",img)\n",
    "cv2.imshow(\"m1\",dni)\n",
    "\n",
    "\n",
    "\n",
    "img =si\n",
    "sigma_est=np.mean(estimate_sigma(img,channel_axis=True))\n",
    "dni=denoise_nl_means(img,h=1.15*sigma_est,fast_mode=True,patch_size=5,patch_distance=3,channel_axis=None)\n",
    "\n",
    "cv2.imshow(\"original1\",img)\n",
    "cv2.imshow(\"m11\",dni)\n",
    "\n",
    "#cv2.imshow(\"m2\",bui)\n",
    "cv2.waitKey(0)\n",
    "cv2.destroyAllWindows()"
   ]
  },
  {
   "cell_type": "code",
   "execution_count": 4,
   "metadata": {},
   "outputs": [
    {
     "data": {
      "image/png": "[encoded data removed]",
      "text/plain": [
       "<Figure size 640x480 with 1 Axes>"
      ]
     },
     "metadata": {},
     "output_type": "display_data"
    }
   ],
   "source": [
    "import cv2\n",
    "from skimage import io, img_as_float\n",
    "from skimage.restoration import denoise_tv_chambolle\n",
    "from matplotlib import pyplot as plt\n",
    "\n",
    "img  = img_as_float(io.imread(\"balloons_noisy.png\", as_gray=True))\n",
    "plt.hist(img.flat, bins=100, range=(0,1))\n",
    "\n",
    "denoise_img = denoise_tv_chambolle(img, weight=0.1, eps=0.0002, channel_axis=False)\n",
    "\n",
    "plt.hist(denoise_img.flat, bins=100, range=(0,1))\n",
    "\n",
    "cv2.imshow(\"Original\", img)\n",
    "cv2.imshow(\"TV Filtered\", denoise_img)\n",
    "cv2.waitKey(0)\n",
    "cv2.destroyAllWindows()"
   ]
  },
  {
   "cell_type": "code",
   "execution_count": null,
   "metadata": {},
   "outputs": [],
   "source": [
    "from skimage import io, img_as_float\n",
    "import bm3d\n",
    "import cv2\n",
    "\n",
    "noisy_img = img_as_float(io.imread(\"balloons_noisy.png\", as_gray=True))\n",
    "\n",
    "BM3D_denoise_image = bm3d.bm3d(noisy_img, sigma_psd=0.2, stage_arg=bm3d.BM3DStages.HARD_THRESHOLDING)\n",
    "\n",
    "cv2.imshow(\"Original\", noisy_img)\n",
    "cv2.imshow(\"BM3D Filtered\", BM3D_denoise_image)\n",
    "cv2.waitKey(0)\n",
    "cv2.destroyAllWindows()"
   ]
  },
  {
   "cell_type": "code",
   "execution_count": null,
   "metadata": {},
   "outputs": [],
   "source": []
  }
 ],
 "metadata": {
  "kernelspec": {
   "display_name": "Python 3",
   "language": "python",
   "name": "python3"
  },
  "language_info": {
   "codemirror_mode": {
    "name": "ipython",
    "version": 3
   },
   "file_extension": ".py",
   "mimetype": "text/x-python",
   "name": "python",
   "nbconvert_exporter": "python",
   "pygments_lexer": "ipython3",
   "version": "3.9.0 (tags/v3.9.0:9cf6752, Oct  5 2020, 15:34:40) [MSC v.1927 64 bit (AMD64)]"
  },
  "orig_nbformat": 4,
  "vscode": {
   "interpreter": {
    "hash": "1d5c1156327dacead463cc502c55ebae8ce9c8c01979cf154173ff808e75bf55"
   }
  }
 },
 "nbformat": 4,
 "nbformat_minor": 2
}
