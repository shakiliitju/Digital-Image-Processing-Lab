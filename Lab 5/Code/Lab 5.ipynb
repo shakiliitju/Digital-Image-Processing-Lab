{
 "cells": [
  {
   "cell_type": "code",
   "execution_count": 1,
   "metadata": {},
   "outputs": [],
   "source": [
    "import cv2\n",
    "from skimage.filters import median\n",
    "\n",
    "img_gaussian_noise = cv2.imread(\"balloons_noisy.png\",0)\n",
    "\n",
    "img_salt_pepper_noise = cv2.imread(\"salt and paper.jpg\",0)\n",
    "\n",
    "img = img_salt_pepper_noise\n",
    "\n",
    "median_using_cv2 = cv2.medianBlur(img, 3)\n",
    "\n",
    "from skimage.morphology import disk\n",
    "\n",
    "median_using_skimage = median(img, disk(3), mode='constant', cval=0.0)\n",
    "\n",
    "cv2.imshow(\"Original\", img)\n",
    "cv2.imshow(\"Using Cv2\", median_using_cv2)\n",
    "cv2.imshow(\"Using Skimage\", median_using_skimage)\n",
    "\n",
    "cv2.waitKey(0)\n",
    "cv2.destroyAllWindows()"
   ]
  },
  {
   "cell_type": "code",
   "execution_count": null,
   "metadata": {},
   "outputs": [],
   "source": []
  },
  {
   "cell_type": "code",
   "execution_count": 1,
   "metadata": {},
   "outputs": [],
   "source": [
    "import cv2\n",
    "img_gaussian_noise = cv2.imread(\"balloons_noisy.png\",0)\n",
    "\n",
    "img_salt_pepper_noise = cv2.imread(\"salt and paper.jpg\",0)\n",
    "img = img_gaussian_noise\n",
    "\n",
    "bilateral_using_cv2 = cv2.bilateralFilter(img,5,20,100,borderType=cv2.BORDER_CONSTANT)\n",
    "\n",
    "from skimage.restoration import denoise_bilateral\n",
    "\n",
    "bilateral_using_skimage = denoise_bilateral(img, sigma_color=0.05, sigma_spatial=1.5, channel_axis=None)\n",
    "\n",
    "cv2.imshow(\"Original\", img)\n",
    "cv2.imshow(\"Cv2 bilateral\", bilateral_using_cv2)\n",
    "cv2.imshow(\"Using Skimage bilateral\", bilateral_using_skimage)\n",
    "\n",
    "cv2.waitKey(0)\n",
    "cv2.destroyAllWindows()"
   ]
  },
  {
   "cell_type": "code",
   "execution_count": null,
   "metadata": {},
   "outputs": [],
   "source": [
    "import cv2\n",
    "import numpy as np\n",
    "from  skimage import io,img_as_float\n",
    "from skimage.restoration import denoise_nl_means,estimate_sigma\n",
    "gi=img_as_float(io.imread('gau_noise.jpg',as_gray=True))\n",
    "si=img_as_float(io.imread('gry1.jpg',as_gray=True))\n",
    "\n",
    "img =gi\n",
    "sigma_est=np.mean(estimate_sigma(img,channel_axis=True))\n",
    "dni=denoise_nl_means(img,h=1.15*sigma_est,fast_mode=True,patch_size=5,patch_distance=3,channel_axis=None)\n",
    "\n",
    "\n",
    "cv2.imshow(\"original\",img)\n",
    "cv2.imshow(\"m1\",dni)\n",
    "\n",
    "\n",
    "\n",
    "img =si\n",
    "sigma_est=np.mean(estimate_sigma(img,channel_axis=True))\n",
    "dni=denoise_nl_means(img,h=1.15*sigma_est,fast_mode=True,patch_size=5,patch_distance=3,channel_axis=None)\n",
    "\n",
    "cv2.imshow(\"original1\",img)\n",
    "cv2.imshow(\"m11\",dni)\n",
    "\n",
    "#cv2.imshow(\"m2\",bui)\n",
    "cv2.waitKey(0)\n",
    "cv2.destroyAllWindows()"
   ]
  }
 ],
 "metadata": {
  "kernelspec": {
   "display_name": "Python 3",
   "language": "python",
   "name": "python3"
  },
  "language_info": {
   "codemirror_mode": {
    "name": "ipython",
    "version": 3
   },
   "file_extension": ".py",
   "mimetype": "text/x-python",
   "name": "python",
   "nbconvert_exporter": "python",
   "pygments_lexer": "ipython3",
   "version": "3.9.0"
  },
  "orig_nbformat": 4,
  "vscode": {
   "interpreter": {
    "hash": "1d5c1156327dacead463cc502c55ebae8ce9c8c01979cf154173ff808e75bf55"
   }
  }
 },
 "nbformat": 4,
 "nbformat_minor": 2
}
