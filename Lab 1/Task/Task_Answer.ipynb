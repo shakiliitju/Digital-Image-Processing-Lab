{
  "nbformat": 4,
  "nbformat_minor": 0,
  "metadata": {
    "colab": {
      "provenance": []
    },
    "kernelspec": {
      "name": "python3",
      "display_name": "Python 3"
    },
    "language_info": {
      "name": "python"
    }
  },
  "cells": [
    {
      "cell_type": "markdown",
      "source": [
        "### Task-1"
      ],
      "metadata": {
        "id": "zfQbKUF29WC5"
      }
    },
    {
      "cell_type": "code",
      "execution_count": 1,
      "metadata": {
        "colab": {
          "base_uri": "https://localhost:8080/"
        },
        "id": "2CvpWmpH7cL4",
        "outputId": "f2489252-073c-46cf-872e-3dbbea7ea5ba"
      },
      "outputs": [
        {
          "output_type": "stream",
          "name": "stdout",
          "text": [
            "[31, 32, 33, 34, 35]\n",
            "23\n",
            "[22, 23]\n",
            "[1, 3, 5]\n",
            "[3.0, 23.0, 33.0]\n"
          ]
        }
      ],
      "source": [
        "\n",
        "x = [[1, 2, 3, 4, 5], [21, 22, 23, 24, 25], [31, 32, 33, 34, 35]]\n",
        "\n",
        "# i. [31, 32, 33, 34, 35]\n",
        "print(x[2])\n",
        "\n",
        "# ii. 23\n",
        "print(x[1][2])\n",
        "\n",
        "# iii. [22, 23]\n",
        "print(x[1][1:3])\n",
        "\n",
        "# iv. [1, 3, 5]\n",
        "print(x[0][::2])\n",
        "\n",
        "# Declare y = [0, 0, 0]\n",
        "y = [0, 0, 0]\n",
        "\n",
        "# Calculate averages\n",
        "for i in range(len(x)):\n",
        "    y[i] = sum(x[i]) / len(x[i])\n",
        "\n",
        "# Output the result\n",
        "print(y)\n"
      ]
    },
    {
      "cell_type": "markdown",
      "source": [
        "### Task-2 (a)"
      ],
      "metadata": {
        "id": "JMXC0lwJ9Jxq"
      }
    },
    {
      "cell_type": "code",
      "source": [
        "x = [1, 3, 5, 6, 7, 8, 6, 1, 2, 3]\n",
        "y = [0, 0, 0, 0, 0, 0, 0, 0]\n",
        "\n",
        "i = 0\n",
        "while i < len(x) - 2:\n",
        "  y[i] = sum(x[i:i+3]) / 3\n",
        "  i += 1\n",
        "\n",
        "print(y)\n"
      ],
      "metadata": {
        "colab": {
          "base_uri": "https://localhost:8080/"
        },
        "id": "phXyAamg7x6R",
        "outputId": "e09f0911-5fbc-41ae-acd5-d91868308348"
      },
      "execution_count": 2,
      "outputs": [
        {
          "output_type": "stream",
          "name": "stdout",
          "text": [
            "[3.0, 4.666666666666667, 6.0, 7.0, 7.0, 5.0, 3.0, 2.0]\n"
          ]
        }
      ]
    },
    {
      "cell_type": "markdown",
      "source": [
        "### Task-2 (b)"
      ],
      "metadata": {
        "id": "cdagmmM89plx"
      }
    },
    {
      "cell_type": "code",
      "source": [
        "def calculate_average(data):\n",
        "\n",
        "  total = sum(data)\n",
        "  return total / len(data)\n",
        "\n",
        "x = [1, 3, 5, 6, 7, 8, 6, 1, 2, 3]\n",
        "y = [0, 0, 0, 0, 0, 0, 0, 0]\n",
        "\n",
        "average_x = calculate_average(x)\n",
        "average_y = calculate_average(y)\n",
        "\n",
        "print(f\"Average of x: {average_x}\")\n",
        "print(f\"Average of y: {average_y}\")\n"
      ],
      "metadata": {
        "colab": {
          "base_uri": "https://localhost:8080/"
        },
        "id": "5bNMOVps8KXV",
        "outputId": "f64091f4-b6b1-44d4-98bc-71756183a938"
      },
      "execution_count": 5,
      "outputs": [
        {
          "output_type": "stream",
          "name": "stdout",
          "text": [
            "Average of x: 4.2\n",
            "Average of y: 0.0\n"
          ]
        }
      ]
    }
  ]
}