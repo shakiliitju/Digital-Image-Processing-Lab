{
 "cells": [
  {
   "attachments": {},
   "cell_type": "markdown",
   "id": "1b1fc56b",
   "metadata": {},
   "source": [
    "### Introduction to Python"
   ]
  },
  {
   "cell_type": "code",
   "execution_count": 1,
   "id": "eb2ca3c0",
   "metadata": {},
   "outputs": [
    {
     "name": "stdout",
     "output_type": "stream",
     "text": [
      "[[1, 2, 3, 4], 3.14, 'HELLO']\n"
     ]
    }
   ],
   "source": [
    "x = [1,2,3,4]\n",
    "y =3.14\n",
    "z = \"HELLO\"\n",
    "li = [x,y,z];\n",
    "print(li)"
   ]
  },
  {
   "cell_type": "code",
   "execution_count": 7,
   "id": "bc493273",
   "metadata": {},
   "outputs": [
    {
     "name": "stdout",
     "output_type": "stream",
     "text": [
      "3\n"
     ]
    }
   ],
   "source": [
    "print(li[0][2])"
   ]
  },
  {
   "cell_type": "code",
   "execution_count": 10,
   "id": "94e3686e",
   "metadata": {},
   "outputs": [
    {
     "name": "stdout",
     "output_type": "stream",
     "text": [
      "[3.14, 'HELLO']\n"
     ]
    }
   ],
   "source": [
    "print(li[1:3])"
   ]
  },
  {
   "cell_type": "code",
   "execution_count": 16,
   "id": "f7159c8a",
   "metadata": {},
   "outputs": [
    {
     "name": "stdout",
     "output_type": "stream",
     "text": [
      "[[1, 2, 3, 4], 'HELLO']\n"
     ]
    }
   ],
   "source": [
    "print(li[0:4:2])"
   ]
  },
  {
   "cell_type": "code",
   "execution_count": 17,
   "id": "9aaefaac",
   "metadata": {},
   "outputs": [
    {
     "name": "stdout",
     "output_type": "stream",
     "text": [
      "[[1, 2, 3, 4], 3.14, 'HELLO']\n"
     ]
    }
   ],
   "source": [
    "print(li[:])"
   ]
  },
  {
   "cell_type": "code",
   "execution_count": 18,
   "id": "087fce3b",
   "metadata": {},
   "outputs": [
    {
     "name": "stdout",
     "output_type": "stream",
     "text": [
      "[[1, 2, 3, 4], 3.14, 'HELLO']\n"
     ]
    }
   ],
   "source": [
    "print (li [0:])"
   ]
  },
  {
   "cell_type": "code",
   "execution_count": 19,
   "id": "a10b67ea",
   "metadata": {},
   "outputs": [
    {
     "name": "stdout",
     "output_type": "stream",
     "text": [
      "[[1, 2, 3, 4], 3.14, 'HELLO']\n"
     ]
    }
   ],
   "source": [
    "print (li [:3]) "
   ]
  },
  {
   "cell_type": "code",
   "execution_count": 20,
   "id": "1da3c5f1",
   "metadata": {},
   "outputs": [
    {
     "name": "stdout",
     "output_type": "stream",
     "text": [
      "ELL\n"
     ]
    }
   ],
   "source": [
    "print (li [2] [1:4]) "
   ]
  },
  {
   "cell_type": "code",
   "execution_count": 23,
   "id": "049326c5",
   "metadata": {},
   "outputs": [
    {
     "name": "stdout",
     "output_type": "stream",
     "text": [
      "Voter\n"
     ]
    }
   ],
   "source": [
    "age = 20\n",
    "if age>=18:\n",
    "    print(\"Voter\")\n",
    "else: \n",
    "   print(\"NO\")"
   ]
  },
  {
   "cell_type": "code",
   "execution_count": 27,
   "id": "c41c0a6d",
   "metadata": {},
   "outputs": [
    {
     "name": "stdout",
     "output_type": "stream",
     "text": [
      "Enter Number = -1\n",
      "Negative\n"
     ]
    }
   ],
   "source": [
    "x =int( input('Enter Number = '))\n",
    "if x>0:\n",
    "    print('Positive')\n",
    "elif x<0:\n",
    "    print(\"Negative\")\n",
    "else:\n",
    "    print(\"Zero\")"
   ]
  },
  {
   "cell_type": "code",
   "execution_count": 30,
   "id": "a2d85f8d",
   "metadata": {},
   "outputs": [
    {
     "name": "stdout",
     "output_type": "stream",
     "text": [
      "23\n",
      "24\n",
      "25\n",
      "26\n",
      "27\n",
      "28\n",
      "29\n",
      "Over\n"
     ]
    }
   ],
   "source": [
    "n=23\n",
    "while n<30:\n",
    "    print(n);\n",
    "    n+=1\n",
    "else :\n",
    "    print('Over')"
   ]
  },
  {
   "cell_type": "markdown",
   "id": "370a5363",
   "metadata": {},
   "source": [
    "### Loop"
   ]
  },
  {
   "cell_type": "code",
   "execution_count": 32,
   "id": "7e866c5c",
   "metadata": {},
   "outputs": [
    {
     "name": "stdout",
     "output_type": "stream",
     "text": [
      "0\n",
      "1\n",
      "2\n",
      "3\n",
      "4\n",
      "5\n",
      "6\n",
      "7\n",
      "8\n",
      "9\n"
     ]
    }
   ],
   "source": [
    "for i in range(10):\n",
    "    if i==6:\n",
    "        break\n",
    "    print(i)"
   ]
  },
  {
   "cell_type": "code",
   "execution_count": 36,
   "id": "e0e84d6f",
   "metadata": {},
   "outputs": [
    {
     "name": "stdout",
     "output_type": "stream",
     "text": [
      "3\n",
      "5\n",
      "7\n",
      "9\n"
     ]
    }
   ],
   "source": [
    "for i in range(3,10):\n",
    "    if i%2==1:\n",
    "        print(i)"
   ]
  },
  {
   "cell_type": "code",
   "execution_count": 51,
   "id": "bf326d54",
   "metadata": {},
   "outputs": [
    {
     "name": "stdout",
     "output_type": "stream",
     "text": [
      "1\n",
      "4\n",
      "7\n"
     ]
    }
   ],
   "source": [
    "for i in range (1, 10, 3): \n",
    "            print(i)\n"
   ]
  },
  {
   "cell_type": "code",
   "execution_count": 52,
   "id": "a86052a4",
   "metadata": {},
   "outputs": [
    {
     "name": "stdout",
     "output_type": "stream",
     "text": [
      "Apple\n",
      "Orange\n",
      "Lichu\n",
      "Mango\n"
     ]
    }
   ],
   "source": [
    "food = ['Apple', 'Orange', 'Lichu', 'Mango']\n",
    "for x in food:\n",
    "    print(x)"
   ]
  },
  {
   "cell_type": "code",
   "execution_count": 53,
   "id": "943d40fd",
   "metadata": {},
   "outputs": [
    {
     "name": "stdout",
     "output_type": "stream",
     "text": [
      "b\n",
      "a\n",
      "n\n",
      "a\n",
      "n\n",
      "a\n"
     ]
    }
   ],
   "source": [
    "for x in \"banana\":\n",
    "  print(x)"
   ]
  },
  {
   "cell_type": "markdown",
   "id": "70c5ee46",
   "metadata": {},
   "source": [
    "## Function"
   ]
  },
  {
   "cell_type": "code",
   "execution_count": 39,
   "id": "c44d61a5",
   "metadata": {},
   "outputs": [
    {
     "name": "stdout",
     "output_type": "stream",
     "text": [
      "9\n"
     ]
    }
   ],
   "source": [
    "def sum(a,b):\n",
    "    print( a+b)\n",
    "sum(4,5)"
   ]
  },
  {
   "cell_type": "code",
   "execution_count": 40,
   "id": "925d125c",
   "metadata": {},
   "outputs": [],
   "source": [
    "def divisor(a):\n",
    "    for i in range(1, a+1):\n",
    "        if a%i==0:\n",
    "            print(i)"
   ]
  },
  {
   "cell_type": "code",
   "execution_count": 41,
   "id": "01272644",
   "metadata": {},
   "outputs": [
    {
     "name": "stdout",
     "output_type": "stream",
     "text": [
      "1\n",
      "2\n",
      "5\n",
      "10\n"
     ]
    }
   ],
   "source": [
    "divisor(10)"
   ]
  },
  {
   "cell_type": "code",
   "execution_count": 45,
   "id": "637d0328",
   "metadata": {},
   "outputs": [
    {
     "name": "stdout",
     "output_type": "stream",
     "text": [
      "200\n"
     ]
    }
   ],
   "source": [
    "def max(a,b):\n",
    "    if a>=b:\n",
    "        print(a)\n",
    "    else:\n",
    "        print(b)\n",
    "        \n",
    "max(200, 112)"
   ]
  },
  {
   "cell_type": "code",
   "execution_count": 47,
   "id": "2d3fe2b9",
   "metadata": {},
   "outputs": [
    {
     "name": "stdout",
     "output_type": "stream",
     "text": [
      "112\n"
     ]
    }
   ],
   "source": [
    "def min(a,b):\n",
    "    if a<=b:\n",
    "        print(a)\n",
    "    else:\n",
    "        print(b)\n",
    "        \n",
    "min(200, 112)"
   ]
  },
  {
   "cell_type": "code",
   "execution_count": 49,
   "id": "2e1c98ba",
   "metadata": {},
   "outputs": [
    {
     "name": "stdout",
     "output_type": "stream",
     "text": [
      "a is 3 and b is 7 and c is 10\n",
      "a is 25 and b is 5 and c is 24\n",
      "a is 100 and b is 5 and c is 50\n"
     ]
    }
   ],
   "source": [
    "def func (a, b=5, c=10): \n",
    "        print ('a is', a, 'and b is', b, 'and c is', c) \n",
    "func (3, 7) \n",
    "func (25, c=24) \n",
    "func (c=50, a=100)   \n"
   ]
  },
  {
   "cell_type": "code",
   "execution_count": 50,
   "id": "2f9a49b4",
   "metadata": {},
   "outputs": [
    {
     "name": "stdout",
     "output_type": "stream",
     "text": [
      "2002\n"
     ]
    }
   ],
   "source": [
    "def max(a,b):\n",
    "    if a>=b:\n",
    "       return a\n",
    "    else:\n",
    "        return b\n",
    "        \n",
    "print(max(100, 2002))"
   ]
  },
  {
   "cell_type": "markdown",
   "id": "8ee9dfcb",
   "metadata": {},
   "source": [
    "### Methods"
   ]
  },
  {
   "cell_type": "code",
   "execution_count": 84,
   "id": "38d969f8",
   "metadata": {},
   "outputs": [
    {
     "name": "stdout",
     "output_type": "stream",
     "text": [
      "hey nahid, ki obosta\n"
     ]
    }
   ],
   "source": [
    "st = 'hey nahid, ki obosta'\n",
    "print(st.lower())"
   ]
  },
  {
   "cell_type": "code",
   "execution_count": 85,
   "id": "b0a1e8f0",
   "metadata": {},
   "outputs": [
    {
     "name": "stdout",
     "output_type": "stream",
     "text": [
      "HEY NAHID, KI OBOSTA\n"
     ]
    }
   ],
   "source": [
    "print(st.upper())"
   ]
  },
  {
   "cell_type": "code",
   "execution_count": 86,
   "id": "e2da70af",
   "metadata": {},
   "outputs": [
    {
     "name": "stdout",
     "output_type": "stream",
     "text": [
      "['hey', 'nahid,', 'ki', 'obosta']\n"
     ]
    }
   ],
   "source": [
    "print(st.split())"
   ]
  },
  {
   "cell_type": "code",
   "execution_count": 89,
   "id": "d3012060",
   "metadata": {},
   "outputs": [
    {
     "data": {
      "text/plain": [
       "6"
      ]
     },
     "execution_count": 89,
     "metadata": {},
     "output_type": "execute_result"
    }
   ],
   "source": [
    "li = [3,4,5,6]\n",
    "li.pop()"
   ]
  },
  {
   "cell_type": "code",
   "execution_count": 1,
   "id": "2ecce169",
   "metadata": {},
   "outputs": [
    {
     "name": "stdout",
     "output_type": "stream",
     "text": [
      "My name is Shakil Hossain and my age is 10\n"
     ]
    }
   ],
   "source": [
    "age = 10;\n",
    "name ='Md. Shakil Hossain';\n",
    "\n",
    "print(\"My name is {} and my age is {}\". format(name,age))"
   ]
  },
  {
   "cell_type": "code",
   "execution_count": null,
   "id": "cdd57ca5",
   "metadata": {},
   "outputs": [],
   "source": []
  }
 ],
 "metadata": {
  "kernelspec": {
   "display_name": "Python 3",
   "language": "python",
   "name": "python3"
  },
  "language_info": {
   "codemirror_mode": {
    "name": "ipython",
    "version": 3
   },
   "file_extension": ".py",
   "mimetype": "text/x-python",
   "name": "python",
   "nbconvert_exporter": "python",
   "pygments_lexer": "ipython3",
   "version": "3.9.0"
  },
  "vscode": {
   "interpreter": {
    "hash": "1d5c1156327dacead463cc502c55ebae8ce9c8c01979cf154173ff808e75bf55"
   }
  }
 },
 "nbformat": 4,
 "nbformat_minor": 5
}
